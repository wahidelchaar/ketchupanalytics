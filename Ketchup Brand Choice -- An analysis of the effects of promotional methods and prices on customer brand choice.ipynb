{
 "cells": [
  {
   "cell_type": "markdown",
   "metadata": {},
   "source": [
    "Every row in this SAS dataset corresponds to a brand choice occasion between Heinz and Hunts ketchup products. The purpose of this project is to provide marketing analytics insights to Heinz in the following ways:\n",
    "<br/>  \n",
    "1. Determine which promotional methods are effective in influencing consumer brand choice.  \n",
    "2. Build a machine learning model that predicts whether a customer is likely to choose Heinz based on prices and promotional methods. This model is to be used to send coupons to potential Heinz customers at minimum misclassification cost.  \n",
    "\n",
    "The dataset consists of the following variables:  \n",
    "- **Heinz**: 1 if Heinz was purchased, 0 if Hunts was purchased  \n",
    "- **PriceHeinz**: Price of Heinz at the time of purchase  \n",
    "- **PriceHunts**: Price of Hunts at the time of purchase  \n",
    "- **DisplHeinz**: 1 if Heinz had a store display, 0 if Heinz did not have a store display at the time of purchase\n",
    "- **DisplHunts**: 1 if Hunts had a store display, 0 if Hunts did not have a store display at the time of purchase\n",
    "- **FeatureHeinz**: 1 if Heinz had a store feature, 0 if Heinz did not have a store feature at the time of purchase\n",
    "- **FeatureHunts**: 1 if Hunts had a store feature, 0 if Hunts did not have a store feature at the time of purchase"
   ]
  },
  {
   "cell_type": "markdown",
   "metadata": {},
   "source": [
    "### Import basic libraries and set plotting style to match notebook theme"
   ]
  },
  {
   "cell_type": "code",
   "execution_count": 33,
   "metadata": {},
   "outputs": [],
   "source": [
    "import numpy as np\n",
    "import pandas as pd\n",
    "import matplotlib.pyplot as plt\n",
    "import seaborn as sns\n",
    "import warnings\n",
    "warnings.filterwarnings(\"ignore\")\n",
    "%matplotlib inline\n",
    "from jupyterthemes import jtplot\n",
    "jtplot.style()"
   ]
  },
  {
   "cell_type": "markdown",
   "metadata": {},
   "source": [
    "### Read the SAS dataset into a Pandas dataframe"
   ]
  },
  {
   "cell_type": "code",
   "execution_count": 34,
   "metadata": {},
   "outputs": [
    {
     "data": {
      "text/html": [
       "<div>\n",
       "<style scoped>\n",
       "    .dataframe tbody tr th:only-of-type {\n",
       "        vertical-align: middle;\n",
       "    }\n",
       "\n",
       "    .dataframe tbody tr th {\n",
       "        vertical-align: top;\n",
       "    }\n",
       "\n",
       "    .dataframe thead th {\n",
       "        text-align: right;\n",
       "    }\n",
       "</style>\n",
       "<table border=\"1\" class=\"dataframe\">\n",
       "  <thead>\n",
       "    <tr style=\"text-align: right;\">\n",
       "      <th></th>\n",
       "      <th>HEINZ</th>\n",
       "      <th>HUNTS</th>\n",
       "      <th>PRICEHEINZ</th>\n",
       "      <th>PRICEHUNTS</th>\n",
       "      <th>FeatHeinz</th>\n",
       "      <th>FeatHunts</th>\n",
       "      <th>DisplHeinz</th>\n",
       "      <th>DisplHunts</th>\n",
       "    </tr>\n",
       "  </thead>\n",
       "  <tbody>\n",
       "    <tr>\n",
       "      <th>0</th>\n",
       "      <td>1.0</td>\n",
       "      <td>0.0</td>\n",
       "      <td>0.052</td>\n",
       "      <td>0.034</td>\n",
       "      <td>0.0</td>\n",
       "      <td>0.0</td>\n",
       "      <td>0.0</td>\n",
       "      <td>0.0</td>\n",
       "    </tr>\n",
       "    <tr>\n",
       "      <th>1</th>\n",
       "      <td>1.0</td>\n",
       "      <td>0.0</td>\n",
       "      <td>0.052</td>\n",
       "      <td>0.044</td>\n",
       "      <td>0.0</td>\n",
       "      <td>0.0</td>\n",
       "      <td>0.0</td>\n",
       "      <td>0.0</td>\n",
       "    </tr>\n",
       "    <tr>\n",
       "      <th>2</th>\n",
       "      <td>1.0</td>\n",
       "      <td>0.0</td>\n",
       "      <td>0.046</td>\n",
       "      <td>0.048</td>\n",
       "      <td>1.0</td>\n",
       "      <td>0.0</td>\n",
       "      <td>0.0</td>\n",
       "      <td>0.0</td>\n",
       "    </tr>\n",
       "    <tr>\n",
       "      <th>3</th>\n",
       "      <td>1.0</td>\n",
       "      <td>0.0</td>\n",
       "      <td>0.052</td>\n",
       "      <td>0.034</td>\n",
       "      <td>0.0</td>\n",
       "      <td>0.0</td>\n",
       "      <td>0.0</td>\n",
       "      <td>0.0</td>\n",
       "    </tr>\n",
       "    <tr>\n",
       "      <th>4</th>\n",
       "      <td>1.0</td>\n",
       "      <td>0.0</td>\n",
       "      <td>0.046</td>\n",
       "      <td>0.048</td>\n",
       "      <td>1.0</td>\n",
       "      <td>0.0</td>\n",
       "      <td>0.0</td>\n",
       "      <td>0.0</td>\n",
       "    </tr>\n",
       "    <tr>\n",
       "      <th>5</th>\n",
       "      <td>1.0</td>\n",
       "      <td>0.0</td>\n",
       "      <td>0.047</td>\n",
       "      <td>0.030</td>\n",
       "      <td>0.0</td>\n",
       "      <td>0.0</td>\n",
       "      <td>0.0</td>\n",
       "      <td>0.0</td>\n",
       "    </tr>\n",
       "    <tr>\n",
       "      <th>6</th>\n",
       "      <td>1.0</td>\n",
       "      <td>0.0</td>\n",
       "      <td>0.046</td>\n",
       "      <td>0.041</td>\n",
       "      <td>0.0</td>\n",
       "      <td>1.0</td>\n",
       "      <td>0.0</td>\n",
       "      <td>1.0</td>\n",
       "    </tr>\n",
       "    <tr>\n",
       "      <th>7</th>\n",
       "      <td>1.0</td>\n",
       "      <td>0.0</td>\n",
       "      <td>0.046</td>\n",
       "      <td>0.031</td>\n",
       "      <td>0.0</td>\n",
       "      <td>0.0</td>\n",
       "      <td>0.0</td>\n",
       "      <td>0.0</td>\n",
       "    </tr>\n",
       "    <tr>\n",
       "      <th>8</th>\n",
       "      <td>1.0</td>\n",
       "      <td>0.0</td>\n",
       "      <td>0.047</td>\n",
       "      <td>0.031</td>\n",
       "      <td>0.0</td>\n",
       "      <td>0.0</td>\n",
       "      <td>0.0</td>\n",
       "      <td>0.0</td>\n",
       "    </tr>\n",
       "    <tr>\n",
       "      <th>9</th>\n",
       "      <td>1.0</td>\n",
       "      <td>0.0</td>\n",
       "      <td>0.050</td>\n",
       "      <td>0.028</td>\n",
       "      <td>0.0</td>\n",
       "      <td>0.0</td>\n",
       "      <td>0.0</td>\n",
       "      <td>1.0</td>\n",
       "    </tr>\n",
       "  </tbody>\n",
       "</table>\n",
       "</div>"
      ],
      "text/plain": [
       "   HEINZ  HUNTS  PRICEHEINZ  PRICEHUNTS  FeatHeinz  FeatHunts  DisplHeinz  \\\n",
       "0    1.0    0.0       0.052       0.034        0.0        0.0         0.0   \n",
       "1    1.0    0.0       0.052       0.044        0.0        0.0         0.0   \n",
       "2    1.0    0.0       0.046       0.048        1.0        0.0         0.0   \n",
       "3    1.0    0.0       0.052       0.034        0.0        0.0         0.0   \n",
       "4    1.0    0.0       0.046       0.048        1.0        0.0         0.0   \n",
       "5    1.0    0.0       0.047       0.030        0.0        0.0         0.0   \n",
       "6    1.0    0.0       0.046       0.041        0.0        1.0         0.0   \n",
       "7    1.0    0.0       0.046       0.031        0.0        0.0         0.0   \n",
       "8    1.0    0.0       0.047       0.031        0.0        0.0         0.0   \n",
       "9    1.0    0.0       0.050       0.028        0.0        0.0         0.0   \n",
       "\n",
       "   DisplHunts  \n",
       "0         0.0  \n",
       "1         0.0  \n",
       "2         0.0  \n",
       "3         0.0  \n",
       "4         0.0  \n",
       "5         0.0  \n",
       "6         1.0  \n",
       "7         0.0  \n",
       "8         0.0  \n",
       "9         1.0  "
      ]
     },
     "execution_count": 34,
     "metadata": {},
     "output_type": "execute_result"
    }
   ],
   "source": [
    "data = pd.read_sas('heinzhunts.sas7bdat')\n",
    "data.head(10)"
   ]
  },
  {
   "cell_type": "markdown",
   "metadata": {},
   "source": [
    "# Exploratory Data Analysis"
   ]
  },
  {
   "cell_type": "markdown",
   "metadata": {},
   "source": [
    "Let's observe some basic descriptive statistics of the variables in the dataset and their data-types"
   ]
  },
  {
   "cell_type": "code",
   "execution_count": 35,
   "metadata": {},
   "outputs": [
    {
     "data": {
      "text/html": [
       "<div>\n",
       "<style scoped>\n",
       "    .dataframe tbody tr th:only-of-type {\n",
       "        vertical-align: middle;\n",
       "    }\n",
       "\n",
       "    .dataframe tbody tr th {\n",
       "        vertical-align: top;\n",
       "    }\n",
       "\n",
       "    .dataframe thead th {\n",
       "        text-align: right;\n",
       "    }\n",
       "</style>\n",
       "<table border=\"1\" class=\"dataframe\">\n",
       "  <thead>\n",
       "    <tr style=\"text-align: right;\">\n",
       "      <th></th>\n",
       "      <th>HEINZ</th>\n",
       "      <th>HUNTS</th>\n",
       "      <th>PRICEHEINZ</th>\n",
       "      <th>PRICEHUNTS</th>\n",
       "      <th>FeatHeinz</th>\n",
       "      <th>FeatHunts</th>\n",
       "      <th>DisplHeinz</th>\n",
       "      <th>DisplHunts</th>\n",
       "    </tr>\n",
       "  </thead>\n",
       "  <tbody>\n",
       "    <tr>\n",
       "      <th>count</th>\n",
       "      <td>2798.000000</td>\n",
       "      <td>2798.000000</td>\n",
       "      <td>2798.000000</td>\n",
       "      <td>2798.000000</td>\n",
       "      <td>2798.000000</td>\n",
       "      <td>2798.000000</td>\n",
       "      <td>2798.000000</td>\n",
       "      <td>2798.000000</td>\n",
       "    </tr>\n",
       "    <tr>\n",
       "      <th>mean</th>\n",
       "      <td>0.890279</td>\n",
       "      <td>0.109721</td>\n",
       "      <td>0.034828</td>\n",
       "      <td>0.033555</td>\n",
       "      <td>0.162259</td>\n",
       "      <td>0.045747</td>\n",
       "      <td>0.197284</td>\n",
       "      <td>0.044675</td>\n",
       "    </tr>\n",
       "    <tr>\n",
       "      <th>std</th>\n",
       "      <td>0.312598</td>\n",
       "      <td>0.312598</td>\n",
       "      <td>0.008974</td>\n",
       "      <td>0.005307</td>\n",
       "      <td>0.368754</td>\n",
       "      <td>0.208973</td>\n",
       "      <td>0.398019</td>\n",
       "      <td>0.206626</td>\n",
       "    </tr>\n",
       "    <tr>\n",
       "      <th>min</th>\n",
       "      <td>0.000000</td>\n",
       "      <td>0.000000</td>\n",
       "      <td>0.001000</td>\n",
       "      <td>0.003000</td>\n",
       "      <td>0.000000</td>\n",
       "      <td>0.000000</td>\n",
       "      <td>0.000000</td>\n",
       "      <td>0.000000</td>\n",
       "    </tr>\n",
       "    <tr>\n",
       "      <th>25%</th>\n",
       "      <td>1.000000</td>\n",
       "      <td>0.000000</td>\n",
       "      <td>0.030000</td>\n",
       "      <td>0.031000</td>\n",
       "      <td>0.000000</td>\n",
       "      <td>0.000000</td>\n",
       "      <td>0.000000</td>\n",
       "      <td>0.000000</td>\n",
       "    </tr>\n",
       "    <tr>\n",
       "      <th>50%</th>\n",
       "      <td>1.000000</td>\n",
       "      <td>0.000000</td>\n",
       "      <td>0.034000</td>\n",
       "      <td>0.034000</td>\n",
       "      <td>0.000000</td>\n",
       "      <td>0.000000</td>\n",
       "      <td>0.000000</td>\n",
       "      <td>0.000000</td>\n",
       "    </tr>\n",
       "    <tr>\n",
       "      <th>75%</th>\n",
       "      <td>1.000000</td>\n",
       "      <td>0.000000</td>\n",
       "      <td>0.042000</td>\n",
       "      <td>0.036000</td>\n",
       "      <td>0.000000</td>\n",
       "      <td>0.000000</td>\n",
       "      <td>0.000000</td>\n",
       "      <td>0.000000</td>\n",
       "    </tr>\n",
       "    <tr>\n",
       "      <th>max</th>\n",
       "      <td>1.000000</td>\n",
       "      <td>1.000000</td>\n",
       "      <td>0.061000</td>\n",
       "      <td>0.087000</td>\n",
       "      <td>1.000000</td>\n",
       "      <td>1.000000</td>\n",
       "      <td>1.000000</td>\n",
       "      <td>1.000000</td>\n",
       "    </tr>\n",
       "  </tbody>\n",
       "</table>\n",
       "</div>"
      ],
      "text/plain": [
       "             HEINZ        HUNTS   PRICEHEINZ   PRICEHUNTS    FeatHeinz  \\\n",
       "count  2798.000000  2798.000000  2798.000000  2798.000000  2798.000000   \n",
       "mean      0.890279     0.109721     0.034828     0.033555     0.162259   \n",
       "std       0.312598     0.312598     0.008974     0.005307     0.368754   \n",
       "min       0.000000     0.000000     0.001000     0.003000     0.000000   \n",
       "25%       1.000000     0.000000     0.030000     0.031000     0.000000   \n",
       "50%       1.000000     0.000000     0.034000     0.034000     0.000000   \n",
       "75%       1.000000     0.000000     0.042000     0.036000     0.000000   \n",
       "max       1.000000     1.000000     0.061000     0.087000     1.000000   \n",
       "\n",
       "         FeatHunts   DisplHeinz   DisplHunts  \n",
       "count  2798.000000  2798.000000  2798.000000  \n",
       "mean      0.045747     0.197284     0.044675  \n",
       "std       0.208973     0.398019     0.206626  \n",
       "min       0.000000     0.000000     0.000000  \n",
       "25%       0.000000     0.000000     0.000000  \n",
       "50%       0.000000     0.000000     0.000000  \n",
       "75%       0.000000     0.000000     0.000000  \n",
       "max       1.000000     1.000000     1.000000  "
      ]
     },
     "execution_count": 35,
     "metadata": {},
     "output_type": "execute_result"
    }
   ],
   "source": [
    "data.describe()"
   ]
  },
  {
   "cell_type": "code",
   "execution_count": 36,
   "metadata": {},
   "outputs": [
    {
     "name": "stdout",
     "output_type": "stream",
     "text": [
      "<class 'pandas.core.frame.DataFrame'>\n",
      "RangeIndex: 2798 entries, 0 to 2797\n",
      "Data columns (total 8 columns):\n",
      "HEINZ         2798 non-null float64\n",
      "HUNTS         2798 non-null float64\n",
      "PRICEHEINZ    2798 non-null float64\n",
      "PRICEHUNTS    2798 non-null float64\n",
      "FeatHeinz     2798 non-null float64\n",
      "FeatHunts     2798 non-null float64\n",
      "DisplHeinz    2798 non-null float64\n",
      "DisplHunts    2798 non-null float64\n",
      "dtypes: float64(8)\n",
      "memory usage: 175.0 KB\n"
     ]
    }
   ],
   "source": [
    "data.info()"
   ]
  },
  {
   "cell_type": "markdown",
   "metadata": {},
   "source": [
    "We can see that the categorical variables are registered in this dataframe as floats, let's convert them to integers."
   ]
  },
  {
   "cell_type": "code",
   "execution_count": 37,
   "metadata": {},
   "outputs": [],
   "source": [
    "for var in ['HEINZ','HUNTS','FeatHeinz','FeatHunts','DisplHeinz','DisplHunts']:\n",
    "    data[var] = data[var].astype(int)"
   ]
  },
  {
   "cell_type": "markdown",
   "metadata": {},
   "source": [
    "Now check the dataset again to make sure the datatypes are correct."
   ]
  },
  {
   "cell_type": "code",
   "execution_count": 38,
   "metadata": {},
   "outputs": [
    {
     "name": "stdout",
     "output_type": "stream",
     "text": [
      "<class 'pandas.core.frame.DataFrame'>\n",
      "RangeIndex: 2798 entries, 0 to 2797\n",
      "Data columns (total 8 columns):\n",
      "HEINZ         2798 non-null int64\n",
      "HUNTS         2798 non-null int64\n",
      "PRICEHEINZ    2798 non-null float64\n",
      "PRICEHUNTS    2798 non-null float64\n",
      "FeatHeinz     2798 non-null int64\n",
      "FeatHunts     2798 non-null int64\n",
      "DisplHeinz    2798 non-null int64\n",
      "DisplHunts    2798 non-null int64\n",
      "dtypes: float64(2), int64(6)\n",
      "memory usage: 175.0 KB\n"
     ]
    }
   ],
   "source": [
    "data.info()"
   ]
  },
  {
   "cell_type": "markdown",
   "metadata": {},
   "source": [
    "Let's visualize the class distribution of the Heinz variable, since that will be the outcome variable when building the predictive model."
   ]
  },
  {
   "cell_type": "code",
   "execution_count": 39,
   "metadata": {},
   "outputs": [
    {
     "data": {
      "text/plain": [
       "Text(0.5, 1.0, 'Instance Distributions of Heinz and Hunts')"
      ]
     },
     "execution_count": 39,
     "metadata": {},
     "output_type": "execute_result"
    },
    {
     "data": {
      "image/png": "[encoded data removed]",
      "text/plain": [
       "<Figure size 432x360 with 1 Axes>"
      ]
     },
     "metadata": {},
     "output_type": "display_data"
    }
   ],
   "source": [
    "plt.figure(figsize=(6,5))\n",
    "sns.countplot(x='HEINZ',data=data)\n",
    "plt.grid(axis='y')\n",
    "plt.xlabel('Brand Choice (1 for Heinz, 0 for Hunts)')\n",
    "plt.ylabel('Number of Instances')\n",
    "plt.title('Instance Distributions of Heinz and Hunts')"
   ]
  },
  {
   "cell_type": "code",
   "execution_count": 40,
   "metadata": {},
   "outputs": [
    {
     "name": "stdout",
     "output_type": "stream",
     "text": [
      "1    2491\n",
      "0     307\n",
      "Name: HEINZ, dtype: int64 \n",
      "\n",
      "Class distributions: 0.89 for Heinz and 0.11 for Hunts\n"
     ]
    }
   ],
   "source": [
    "# Display counts of each class\n",
    "value_counts = data['HEINZ'].value_counts()\n",
    "print(value_counts,'\\n')\n",
    "\n",
    "# Calculate instance rate of each class\n",
    "values_1 = value_counts[1]\n",
    "values_2 = value_counts[0]\n",
    "sum_values = values_1 + values_2\n",
    "print('Class distributions: {:.2f} for Heinz and {:.2f} for Hunts'.format(values_1/sum_values, values_2/sum_values))"
   ]
  },
  {
   "cell_type": "markdown",
   "metadata": {},
   "source": [
    "It is clear that this dataset contains more Heinz purchases than Hunts. This could pose a problem for our predictive model: a classification algorithm is likely to consider the minority class as noise, and predict the majority class most of the time. So the model is likely to misclassify the minority class compared to the majority class. Thus, the accuracy metric is not suitable as it will overstimate model performance. How do we handle such class imbalance? More on this later on.\n"
   ]
  },
  {
   "cell_type": "markdown",
   "metadata": {},
   "source": [
    "Let's look at the distributions of Heinz and Hunts prices using frequency plots and boxplots:"
   ]
  },
  {
   "cell_type": "code",
   "execution_count": 41,
   "metadata": {},
   "outputs": [
    {
     "data": {
      "text/plain": [
       "Text(0.5, 0, 'Price')"
      ]
     },
     "execution_count": 41,
     "metadata": {},
     "output_type": "execute_result"
    },
    {
     "data": {
      "image/png": "[encoded data removed]",
      "text/plain": [
       "<Figure size 576x432 with 1 Axes>"
      ]
     },
     "metadata": {},
     "output_type": "display_data"
    }
   ],
   "source": [
    "plt.figure(figsize=(8,6))\n",
    "sns.kdeplot(data['PRICEHEINZ'], label='Heinz')\n",
    "sns.kdeplot(data['PRICEHUNTS'], label='Hunts')\n",
    "plt.title('Distributions of Heinz and Hunts Prices')\n",
    "plt.xlabel('Price')"
   ]
  },
  {
   "cell_type": "markdown",
   "metadata": {},
   "source": [
    "Due to the small sample size, we see a lot of local peaks and valleys in their respective distributions, but we can see the following:  \n",
    "- Both price distributions seem to be roughly centered around similar values.\n",
    "- The variance for Heinz prices is larger than that of Hunts.\n",
    "- If the prices are similar, on average, then perhaps the effects of promotional methods are greater than that of prices on brand choice."
   ]
  },
  {
   "cell_type": "code",
   "execution_count": 42,
   "metadata": {},
   "outputs": [
    {
     "data": {
      "text/plain": [
       "Text(0.5, 0, 'Price')"
      ]
     },
     "execution_count": 42,
     "metadata": {},
     "output_type": "execute_result"
    },
    {
     "data": {
      "image/png": "[encoded data removed]",
      "text/plain": [
       "<Figure size 504x216 with 1 Axes>"
      ]
     },
     "metadata": {},
     "output_type": "display_data"
    }
   ],
   "source": [
    "# Heinz\n",
    "plt.figure(figsize=(7,3))\n",
    "sns.boxplot(x='PRICEHEINZ', data=data)\n",
    "plt.title('Boxplot of Heinz Prices')\n",
    "plt.xlabel('Price')"
   ]
  },
  {
   "cell_type": "code",
   "execution_count": 43,
   "metadata": {},
   "outputs": [
    {
     "data": {
      "text/plain": [
       "Text(0.5, 0, 'Price')"
      ]
     },
     "execution_count": 43,
     "metadata": {},
     "output_type": "execute_result"
    },
    {
     "data": {
      "image/png": "[encoded data removed]",
      "text/plain": [
       "<Figure size 504x216 with 1 Axes>"
      ]
     },
     "metadata": {},
     "output_type": "display_data"
    }
   ],
   "source": [
    "# Hunts\n",
    "plt.figure(figsize=(7,3))\n",
    "sns.boxplot(x='PRICEHUNTS', data=data)\n",
    "plt.title('Boxplot of Hunts Prices')\n",
    "plt.xlabel('Price')"
   ]
  },
  {
   "cell_type": "markdown",
   "metadata": {},
   "source": [
    "As evident in the above boxplots, there are some outliers in the price distribution of Heinz and Hunts. Many predictive models, such as logistic regression which we will use later on, are sensitive to outliers; they can bias the estimators and underlying statistics of the model. We will treat these outliers in the next section.  "
   ]
  },
  {
   "cell_type": "markdown",
   "metadata": {},
   "source": [
    "# Feature Engineering"
   ]
  },
  {
   "cell_type": "markdown",
   "metadata": {},
   "source": [
    "Since we are interested in the relative difference of prices between Hunts and Heinz, let's create a new price ratio feature of Heinz to Hunts. This will be useful in making an inference about the price difference having an effect on customer brand choice. Also, let's visualize this new feature's distribution:"
   ]
  },
  {
   "cell_type": "code",
   "execution_count": 52,
   "metadata": {},
   "outputs": [],
   "source": [
    "# Create the feature\n",
    "data['priceratio'] = data['PRICEHEINZ']/data['PRICEHUNTS']"
   ]
  },
  {
   "cell_type": "code",
   "execution_count": 46,
   "metadata": {},
   "outputs": [
    {
     "data": {
      "text/plain": [
       "Text(0.5, 0, 'Price')"
      ]
     },
     "execution_count": 46,
     "metadata": {},
     "output_type": "execute_result"
    },
    {
     "data": {
      "image/png": "[encoded data removed]",
      "text/plain": [
       "<Figure size 504x216 with 1 Axes>"
      ]
     },
     "metadata": {},
     "output_type": "display_data"
    }
   ],
   "source": [
    "plt.figure(figsize=(7,3))\n",
    "sns.boxplot(x=data['priceratio'])\n",
    "plt.title('Boxplot of Price Ratio')\n",
    "plt.xlabel('Price')"
   ]
  },
  {
   "cell_type": "markdown",
   "metadata": {},
   "source": [
    "The ketchup products can range in size and number, so it is acceptable to see a large price difference. However, notice the outliers to the far right where the price ratio is around 14. This is too large of a price ratio, and we will eliminate these datapoints from the dataset since they are few in number."
   ]
  },
  {
   "cell_type": "code",
   "execution_count": 50,
   "metadata": {},
   "outputs": [],
   "source": [
    "data.drop(data[data['priceratio']>12].index, inplace=True)"
   ]
  },
  {
   "cell_type": "code",
   "execution_count": 51,
   "metadata": {},
   "outputs": [
    {
     "data": {
      "text/plain": [
       "Text(0.5, 0, 'Price')"
      ]
     },
     "execution_count": 51,
     "metadata": {},
     "output_type": "execute_result"
    },
    {
     "data": {
      "image/png": "[encoded data removed]",
      "text/plain": [
       "<Figure size 504x216 with 1 Axes>"
      ]
     },
     "metadata": {},
     "output_type": "display_data"
    }
   ],
   "source": [
    "plt.figure(figsize=(7,3))\n",
    "sns.boxplot(x=data['priceratio'])\n",
    "plt.title('Boxplot of Price Ratio')\n",
    "plt.xlabel('Price')"
   ]
  },
  {
   "cell_type": "markdown",
   "metadata": {},
   "source": [
    "Notice that the outliers are still there, and are situated beyond the right-tail of the distribution. It is unclear what caused these outliers; it could have been data entry errors for some points and price inflation for other points. Because of this, it would probably not be wise to cap their values closer to the true distribution. In addition, deleting the outliers would not be a good idea since the dataset is already small. A good option would be to transform the ratio using a logarithm function:\n"
   ]
  },
  {
   "cell_type": "code",
   "execution_count": 47,
   "metadata": {},
   "outputs": [
    {
     "data": {
      "text/plain": [
       "Text(0.5, 0, 'Log of Heinz-to-Hunts Price Ratio')"
      ]
     },
     "execution_count": 47,
     "metadata": {},
     "output_type": "execute_result"
    },
    {
     "data": {
      "image/png": "[encoded data removed]",
      "text/plain": [
       "<Figure size 432x288 with 1 Axes>"
      ]
     },
     "metadata": {},
     "output_type": "display_data"
    }
   ],
   "source": [
    "plt.figure(figsize=(6,4))\n",
    "sns.boxplot(np.log(data['priceratio']))\n",
    "plt.xlabel('Log of Heinz-to-Hunts Price Ratio')"
   ]
  },
  {
   "cell_type": "markdown",
   "metadata": {},
   "source": [
    "It seems the distribution is more symmetric and the effects of outliers have been reduced. Now let's add it as a new feature:"
   ]
  },
  {
   "cell_type": "code",
   "execution_count": 20,
   "metadata": {},
   "outputs": [],
   "source": [
    "# Add the new logpriceratio feauture\n",
    "data['logpriceratio'] = np.log(data['priceratio'])\n",
    "\n",
    "# Drop the old priceratio feature and the redundant HUNTS variable\n",
    "data.drop(labels=['priceratio','HUNTS'], axis=1, inplace=True)"
   ]
  },
  {
   "cell_type": "markdown",
   "metadata": {},
   "source": [
    "We currently have features for both promotional methods that are implemented by Heinz and Hunts. We can build a model to infer if a store feature or store display can individually affect the customer's brand choice. But what would be the effect on brand choice if both promotions are implemented simultaneously? To answer this question we need to create new interaction variables (for each brand) that represent this potential effect:"
   ]
  },
  {
   "cell_type": "code",
   "execution_count": 21,
   "metadata": {},
   "outputs": [
    {
     "data": {
      "text/html": [
       "<div>\n",
       "<style scoped>\n",
       "    .dataframe tbody tr th:only-of-type {\n",
       "        vertical-align: middle;\n",
       "    }\n",
       "\n",
       "    .dataframe tbody tr th {\n",
       "        vertical-align: top;\n",
       "    }\n",
       "\n",
       "    .dataframe thead th {\n",
       "        text-align: right;\n",
       "    }\n",
       "</style>\n",
       "<table border=\"1\" class=\"dataframe\">\n",
       "  <thead>\n",
       "    <tr style=\"text-align: right;\">\n",
       "      <th></th>\n",
       "      <th>HEINZ</th>\n",
       "      <th>PRICEHEINZ</th>\n",
       "      <th>PRICEHUNTS</th>\n",
       "      <th>FeatHeinz</th>\n",
       "      <th>FeatHunts</th>\n",
       "      <th>DisplHeinz</th>\n",
       "      <th>DisplHunts</th>\n",
       "      <th>logpriceratio</th>\n",
       "      <th>DisplHeinz*FeatHeinz</th>\n",
       "      <th>DisplHunts*FeatHunts</th>\n",
       "    </tr>\n",
       "  </thead>\n",
       "  <tbody>\n",
       "    <tr>\n",
       "      <th>0</th>\n",
       "      <td>1</td>\n",
       "      <td>0.052</td>\n",
       "      <td>0.034</td>\n",
       "      <td>0</td>\n",
       "      <td>0</td>\n",
       "      <td>0</td>\n",
       "      <td>0</td>\n",
       "      <td>0.424883</td>\n",
       "      <td>0</td>\n",
       "      <td>0</td>\n",
       "    </tr>\n",
       "    <tr>\n",
       "      <th>1</th>\n",
       "      <td>1</td>\n",
       "      <td>0.052</td>\n",
       "      <td>0.044</td>\n",
       "      <td>0</td>\n",
       "      <td>0</td>\n",
       "      <td>0</td>\n",
       "      <td>0</td>\n",
       "      <td>0.167054</td>\n",
       "      <td>0</td>\n",
       "      <td>0</td>\n",
       "    </tr>\n",
       "    <tr>\n",
       "      <th>2</th>\n",
       "      <td>1</td>\n",
       "      <td>0.046</td>\n",
       "      <td>0.048</td>\n",
       "      <td>1</td>\n",
       "      <td>0</td>\n",
       "      <td>0</td>\n",
       "      <td>0</td>\n",
       "      <td>-0.042560</td>\n",
       "      <td>0</td>\n",
       "      <td>0</td>\n",
       "    </tr>\n",
       "    <tr>\n",
       "      <th>3</th>\n",
       "      <td>1</td>\n",
       "      <td>0.052</td>\n",
       "      <td>0.034</td>\n",
       "      <td>0</td>\n",
       "      <td>0</td>\n",
       "      <td>0</td>\n",
       "      <td>0</td>\n",
       "      <td>0.424883</td>\n",
       "      <td>0</td>\n",
       "      <td>0</td>\n",
       "    </tr>\n",
       "    <tr>\n",
       "      <th>4</th>\n",
       "      <td>1</td>\n",
       "      <td>0.046</td>\n",
       "      <td>0.048</td>\n",
       "      <td>1</td>\n",
       "      <td>0</td>\n",
       "      <td>0</td>\n",
       "      <td>0</td>\n",
       "      <td>-0.042560</td>\n",
       "      <td>0</td>\n",
       "      <td>0</td>\n",
       "    </tr>\n",
       "  </tbody>\n",
       "</table>\n",
       "</div>"
      ],
      "text/plain": [
       "   HEINZ  PRICEHEINZ  PRICEHUNTS  FeatHeinz  FeatHunts  DisplHeinz  \\\n",
       "0      1       0.052       0.034          0          0           0   \n",
       "1      1       0.052       0.044          0          0           0   \n",
       "2      1       0.046       0.048          1          0           0   \n",
       "3      1       0.052       0.034          0          0           0   \n",
       "4      1       0.046       0.048          1          0           0   \n",
       "\n",
       "   DisplHunts  logpriceratio  DisplHeinz*FeatHeinz  DisplHunts*FeatHunts  \n",
       "0           0       0.424883                     0                     0  \n",
       "1           0       0.167054                     0                     0  \n",
       "2           0      -0.042560                     0                     0  \n",
       "3           0       0.424883                     0                     0  \n",
       "4           0      -0.042560                     0                     0  "
      ]
     },
     "execution_count": 21,
     "metadata": {},
     "output_type": "execute_result"
    }
   ],
   "source": [
    "# Heinz\n",
    "data['DisplHeinz*FeatHeinz'] = data['DisplHeinz']*data['FeatHeinz']\n",
    "\n",
    "# Hunts\n",
    "data['DisplHunts*FeatHunts'] = data['DisplHunts']*data['FeatHunts']\n",
    "\n",
    "# Inspect all new features\n",
    "data.head()"
   ]
  },
  {
   "cell_type": "markdown",
   "metadata": {},
   "source": [
    "# Feature Extraction"
   ]
  },
  {
   "cell_type": "markdown",
   "metadata": {},
   "source": [
    "Rather than perform pairwise statistical tests to determine which variables affect the customer's brand choice, let's build an inferential logistic regression model to calculate the estimators for each variable and determine their statistical significance."
   ]
  },
  {
   "cell_type": "code",
   "execution_count": 22,
   "metadata": {},
   "outputs": [],
   "source": [
    "# Create feature set and response set\n",
    "X = data.iloc[:,3:]\n",
    "y = data['HEINZ']"
   ]
  },
  {
   "cell_type": "markdown",
   "metadata": {},
   "source": [
    "Let's define a custom function that estimates customer brand choice based on the given features and outputs the maximum likelihood estimates and odds ratios:"
   ]
  },
  {
   "cell_type": "code",
   "execution_count": 23,
   "metadata": {},
   "outputs": [],
   "source": [
    "def inferential_logit_model(predictors, response):\n",
    "    \n",
    "    # import statsmodels\n",
    "    import statsmodels.api as sm\n",
    "    \n",
    "    # Instantiate and fit logistic model for inference\n",
    "    LR = sm.Logit(response, sm.add_constant(predictors))\n",
    "    result = LR.fit()\n",
    "    \n",
    "    # Create odds ratio estimates table\n",
    "    params = np.exp(result.params)\n",
    "    conf_1 = np.exp(result.conf_int()[0]) # at 2.5%\n",
    "    conf_2 = np.exp(result.conf_int()[1]) # at 97.5%\n",
    "    odds = pd.DataFrame(data=[params, conf_1, conf_2]).transpose().drop('const')\n",
    "    odds.rename(columns={\"Unnamed 0\":\"Odds Ratio Estimates\", 0:\"2.5%\", 1:\"97.5%\"}, inplace=True)\n",
    "    \n",
    "    # Print the maximum likelihood estimates and odds ratio estimates tables with diagnostics\n",
    "    print(result.summary(),'\\n\\n',odds)"
   ]
  },
  {
   "cell_type": "markdown",
   "metadata": {},
   "source": [
    "Apply the function on the features and response:"
   ]
  },
  {
   "cell_type": "code",
   "execution_count": 24,
   "metadata": {
    "scrolled": true
   },
   "outputs": [
    {
     "name": "stdout",
     "output_type": "stream",
     "text": [
      "Optimization terminated successfully.\n",
      "         Current function value: 0.241660\n",
      "         Iterations 8\n",
      "                           Logit Regression Results                           \n",
      "==============================================================================\n",
      "Dep. Variable:                  HEINZ   No. Observations:                 2795\n",
      "Model:                          Logit   Df Residuals:                     2787\n",
      "Method:                           MLE   Df Model:                            7\n",
      "Date:                Sun, 02 Jun 2019   Pseudo R-squ.:                  0.2974\n",
      "Time:                        20:47:40   Log-Likelihood:                -675.44\n",
      "converged:                       True   LL-Null:                       -961.28\n",
      "                                        LLR p-value:                3.059e-119\n",
      "========================================================================================\n",
      "                           coef    std err          z      P>|z|      [0.025      0.975]\n",
      "----------------------------------------------------------------------------------------\n",
      "const                    3.2746      0.142     23.005      0.000       2.996       3.554\n",
      "FeatHeinz                0.5786      0.317      1.828      0.068      -0.042       1.199\n",
      "FeatHunts               -0.9972      0.347     -2.877      0.004      -1.676      -0.318\n",
      "DisplHeinz               0.5474      0.243      2.256      0.024       0.072       1.023\n",
      "DisplHunts              -0.6207      0.245     -2.534      0.011      -1.101      -0.141\n",
      "logpriceratio           -6.1107      0.386    -15.835      0.000      -6.867      -5.354\n",
      "DisplHeinz*FeatHeinz    -0.6808      0.584     -1.165      0.244      -1.826       0.464\n",
      "DisplHunts*FeatHunts    -0.3222      0.627     -0.514      0.607      -1.551       0.907\n",
      "======================================================================================== \n",
      "\n",
      "                       Odds Ratio Estimates      2.5%     97.5%\n",
      "FeatHeinz                         1.783511  0.958948  3.317087\n",
      "FeatHunts                         0.368923  0.187028  0.727720\n",
      "DisplHeinz                        1.728823  1.074368  2.781942\n",
      "DisplHunts                        0.537560  0.332597  0.868832\n",
      "logpriceratio                     0.002219  0.001042  0.004728\n",
      "DisplHeinz*FeatHeinz              0.506237  0.161107  1.590719\n",
      "DisplHunts*FeatHunts              0.724521  0.211992  2.476179\n"
     ]
    }
   ],
   "source": [
    "inferential_logit_model(X,y)"
   ]
  },
  {
   "cell_type": "markdown",
   "metadata": {},
   "source": [
    "We can see that the following features are statistically significant with 95% confidence:  \n",
    "- FeatHunts\n",
    "- DisplHeinz\n",
    "- DisplHunts\n",
    "- logpriceratio\n",
    "- Note that FeatHeinz is insignificant at this level, but only marginally. So we will still include it in predictive models to avoid loss of predictive power."
   ]
  },
  {
   "cell_type": "markdown",
   "metadata": {},
   "source": [
    "For Heinz, we can see that a store display is the only promotional method of the two that significantly affects customer brand choice, and should be implemented.\n",
    "We can also see that the interaction variables are statistically insignificant, meaning that implementing both features does not have an effect on the relationship of promotional methods with brand choice."
   ]
  },
  {
   "cell_type": "markdown",
   "metadata": {},
   "source": [
    "# Machine Learning Models"
   ]
  },
  {
   "cell_type": "markdown",
   "metadata": {},
   "source": [
    "Heinz would like to send coupons to customers that it predicts are likely to purchase their ketchup product. There are associated costs with incorrectly sending a coupon to a customer that is actually unlikely to purchase Heinz (false positives) and with failing to send a coupon to a customer that is actually likely to purchase Heinz (false negatives). The information provided for these costs are as follows:\n",
    "- Cost of a false positive = 1\n",
    "- Cost of a false negative = 0.25"
   ]
  },
  {
   "cell_type": "markdown",
   "metadata": {},
   "source": [
    "In additon, recall that the classes in this data set are largely imbalanced, so implementing a model that naively assumes a prediction threshold of 0.5 is likely to perform poorly. Thus, we need to find a new threshold that accounts for both the difference in misclassification costs as well as the class imbalance."
   ]
  },
  {
   "cell_type": "markdown",
   "metadata": {},
   "source": [
    "So our strategy will be as follows: \n",
    "- Train 3 classifiers (to predict probabilities) and tune their hyperparameters using Grid Search with 5-fold cross-validation and stratified sampling. The goal of stratified sampling is to make sure that the ratio of classes is maintained in the cross-validation testing sets. The scoring metric will be precision, since false positives are more costly than false negatives.\n",
    "- Find the prediction threshold that minimizes the cost function C = 1 x FalsePositives + 0.25 x FalseNegatives\n",
    "- Evaluate final model performance using precision.\n"
   ]
  },
  {
   "cell_type": "markdown",
   "metadata": {},
   "source": [
    "With that being said, let's begin by splitting the data into training and testing, making sure that the samples are stratified to have enough minority classes in the test set:"
   ]
  },
  {
   "cell_type": "code",
   "execution_count": 25,
   "metadata": {},
   "outputs": [],
   "source": [
    "from sklearn.model_selection import train_test_split\n",
    "\n",
    "X = X.iloc[:,:5] # Only using the statistically significant variables\n",
    "X_train, X_test, y_train, y_test = train_test_split(X, y, test_size=0.3, random_state=42, stratify=y)"
   ]
  },
  {
   "cell_type": "markdown",
   "metadata": {},
   "source": [
    "Before we proceed with training the models, let's define a function that performs Grid Search with cross-validation and prints the optimal set of parameters and grid search results table."
   ]
  },
  {
   "cell_type": "code",
   "execution_count": 26,
   "metadata": {},
   "outputs": [],
   "source": [
    "from sklearn.model_selection import GridSearchCV, StratifiedKFold\n",
    "from sklearn.metrics import precision_score\n",
    "\n",
    "def find_best_params(model,parameters,folds,X_train=X_train,y_train=y_train,X_test=X_test,y_test=y_test):\n",
    "    \n",
    "    skf = StratifiedKFold(n_splits=folds)\n",
    "\n",
    "    grid = GridSearchCV(estimator=model, param_grid=parameters, cv=skf, scoring='precision', return_train_score=True)\n",
    "    grid.fit(X_train,y_train)\n",
    "    \n",
    "    print('Estimator that yields best precision:\\n {}\\n'.format(grid.best_estimator_))\n",
    "    print(pd.DataFrame(grid.cv_results_)[['params','mean_test_score','mean_train_score']],'\\n')\n",
    "    print(grid.best_params_)\n",
    "    \n",
    "    y_pred = grid.predict(X_test)\n",
    "    \n",
    "    print('\\nPrecision on test set: {}\\n'.format(round(precision_score(y_test, y_pred),6)))\n",
    "    \n",
    "    return grid.best_estimator_"
   ]
  },
  {
   "cell_type": "markdown",
   "metadata": {},
   "source": [
    "Let's also define another function that prints the optimal threshold to minimize the cost function, and plots the cost as a function of thresholds ranging from 0 to 1:"
   ]
  },
  {
   "cell_type": "code",
   "execution_count": 27,
   "metadata": {},
   "outputs": [],
   "source": [
    "# Define false positive and negative counters to be used in the calculations\n",
    "def false_positives(y_true, y_pred):\n",
    "    return np.sum((y_true==0) & (y_pred==1))\n",
    "def false_negatives(y_true, y_pred):\n",
    "    return np.sum((y_true==1) & (y_pred==0))\n",
    "\n",
    "# Create the function to find the minimal misclassification cost by identifying the right threshold\n",
    "def find_threshold_for_minimum_cost(model, X_test=X_test, y_test=y_test):\n",
    "\n",
    "    probs = model.predict_proba(X_test)[:,1]\n",
    "    \n",
    "    levels = []\n",
    "    FP = []\n",
    "    FN = []\n",
    "\n",
    "    for threshold in np.linspace(0,1,100):\n",
    "        levels.append(threshold)\n",
    "        class_pred = [1 if p>=threshold else 0 for p in probs]\n",
    "        FP.append(false_positives(y_test,np.array(class_pred)))\n",
    "        FN.append(false_negatives(y_test,np.array(class_pred)))\n",
    "\n",
    "    Cost_df = pd.DataFrame(data=[levels,FP,FN]).transpose()\n",
    "    Cost_df.rename(columns={0:'Threshold', 1:'False Positives', 2:'False Negatives'}, inplace=True)\n",
    "    Cost_df['Cost'] = Cost_df['False Positives']*1 + Cost_df['False Negatives']*0.25\n",
    "\n",
    "    plt.figure(figsize=(12,7.4))\n",
    "    plt.plot(Cost_df['Threshold'], Cost_df['Cost'], 'r')\n",
    "    plt.xlabel('Classification Threshold')\n",
    "    plt.ylabel('Cost')\n",
    "    plt.title('Cost of Mistargeted Marketing as a function of Classification Threshold')\n",
    "    plt.grid()\n",
    "    \n",
    "    print(Cost_df.sort_values(by='Cost').head(1))"
   ]
  },
  {
   "cell_type": "markdown",
   "metadata": {},
   "source": [
    "## 1st Model: Logistic Regression"
   ]
  },
  {
   "cell_type": "code",
   "execution_count": 28,
   "metadata": {},
   "outputs": [
    {
     "name": "stdout",
     "output_type": "stream",
     "text": [
      "Estimator that yields best precision:\n",
      " LogisticRegression(C=10, class_weight=None, dual=False, fit_intercept=True,\n",
      "          intercept_scaling=1, max_iter=100, multi_class='warn',\n",
      "          n_jobs=None, penalty='l2', random_state=None, solver='warn',\n",
      "          tol=0.0001, verbose=0, warm_start=False)\n",
      "\n",
      "                         params  mean_test_score  mean_train_score\n",
      "0   {'C': 0.1, 'penalty': 'l1'}         0.901781          0.901950\n",
      "1   {'C': 0.1, 'penalty': 'l2'}         0.893228          0.892309\n",
      "2     {'C': 1, 'penalty': 'l1'}         0.914414          0.914854\n",
      "3     {'C': 1, 'penalty': 'l2'}         0.913186          0.912763\n",
      "4    {'C': 10, 'penalty': 'l1'}         0.917811          0.917753\n",
      "5    {'C': 10, 'penalty': 'l2'}         0.917890          0.917159\n",
      "6   {'C': 100, 'penalty': 'l1'}         0.917811          0.917753\n",
      "7   {'C': 100, 'penalty': 'l2'}         0.917811          0.917753\n",
      "8  {'C': 1000, 'penalty': 'l1'}         0.917811          0.917753\n",
      "9  {'C': 1000, 'penalty': 'l2'}         0.917811          0.917753 \n",
      "\n",
      "{'C': 10, 'penalty': 'l2'}\n",
      "\n",
      "Precision on test set: 0.915842\n",
      "\n",
      "    Threshold  False Positives  False Negatives  Cost\n",
      "76   0.767677             42.0             80.0  62.0\n"
     ]
    },
    {
     "data": {
      "image/png": "[encoded data removed]",
      "text/plain": [
       "<Figure size 864x532.8 with 1 Axes>"
      ]
     },
     "metadata": {
      "needs_background": "light"
     },
     "output_type": "display_data"
    }
   ],
   "source": [
    "from sklearn.linear_model import LogisticRegression\n",
    "\n",
    "parameters = {'C':[0.1,1,10,100,1000], 'penalty':['l1','l2']}\n",
    "LR = LogisticRegression()\n",
    "\n",
    "find_threshold_for_minimum_cost(model=find_best_params(model=LR, parameters=parameters, folds=5))"
   ]
  },
  {
   "cell_type": "markdown",
   "metadata": {},
   "source": [
    "## 2nd Model: Support Vector Machine"
   ]
  },
  {
   "cell_type": "code",
   "execution_count": 29,
   "metadata": {},
   "outputs": [
    {
     "name": "stdout",
     "output_type": "stream",
     "text": [
      "Estimator that yields best precision:\n",
      " SVC(C=1000, cache_size=200, class_weight=None, coef0=0.0,\n",
      "  decision_function_shape='ovr', degree=3, gamma=100, kernel='rbf',\n",
      "  max_iter=-1, probability=True, random_state=42, shrinking=True,\n",
      "  tol=0.001, verbose=False)\n",
      "\n",
      "                      params  mean_test_score  mean_train_score\n",
      "0      {'C': 10, 'gamma': 1}         0.895311          0.895605\n",
      "1     {'C': 10, 'gamma': 10}         0.904493          0.905967\n",
      "2    {'C': 10, 'gamma': 100}         0.912962          0.915541\n",
      "3     {'C': 100, 'gamma': 1}         0.903688          0.904546\n",
      "4    {'C': 100, 'gamma': 10}         0.907868          0.911728\n",
      "5   {'C': 100, 'gamma': 100}         0.914750          0.918384\n",
      "6    {'C': 1000, 'gamma': 1}         0.904065          0.905018\n",
      "7   {'C': 1000, 'gamma': 10}         0.912539          0.915563\n",
      "8  {'C': 1000, 'gamma': 100}         0.915153          0.919975 \n",
      "\n",
      "{'C': 1000, 'gamma': 100}\n",
      "\n",
      "Precision on test set: 0.913259\n",
      "\n",
      "    Threshold  False Positives  False Negatives  Cost\n",
      "88   0.888889             63.0             14.0  66.5\n"
     ]
    },
    {
     "data": {
      "image/png": "[encoded data removed]",
      "text/plain": [
       "<Figure size 864x532.8 with 1 Axes>"
      ]
     },
     "metadata": {
      "needs_background": "light"
     },
     "output_type": "display_data"
    }
   ],
   "source": [
    "from sklearn.preprocessing import MinMaxScaler\n",
    "from sklearn.svm import SVC\n",
    "\n",
    "# SVM is a Euclidean distance based algorithm and will require scaling\n",
    "scaler = MinMaxScaler()\n",
    "X_scaled = scaler.fit_transform(X)\n",
    "X_train_scaled, X_test_scaled, y_train, y_test = train_test_split(X_scaled, y, test_size=0.3, random_state=42, stratify=y)\n",
    "\n",
    "svc = SVC(probability=True, random_state=42)\n",
    "parameters = {'C': [10, 100, 1000], \n",
    "              'gamma': [1, 10, 100]}\n",
    "\n",
    "svc_grid = find_best_params(model=svc, parameters=parameters, folds=5, X_train=X_train_scaled, X_test=X_test_scaled)\n",
    "\n",
    "find_threshold_for_minimum_cost(model=svc_grid, X_test=X_test_scaled, y_test=y_test)"
   ]
  },
  {
   "cell_type": "markdown",
   "metadata": {},
   "source": [
    "## 3rd Model: Random Forest"
   ]
  },
  {
   "cell_type": "code",
   "execution_count": 30,
   "metadata": {},
   "outputs": [
    {
     "name": "stdout",
     "output_type": "stream",
     "text": [
      "Estimator that yields best precision:\n",
      " RandomForestClassifier(bootstrap=True, class_weight=None, criterion='gini',\n",
      "            max_depth=8, max_features='auto', max_leaf_nodes=None,\n",
      "            min_impurity_decrease=0.0, min_impurity_split=None,\n",
      "            min_samples_leaf=1, min_samples_split=2,\n",
      "            min_weight_fraction_leaf=0.0, n_estimators=500, n_jobs=None,\n",
      "            oob_score=False, random_state=42, verbose=0, warm_start=False)\n",
      "\n",
      "                                               params  mean_test_score  \\\n",
      "0   {'criterion': 'gini', 'max_depth': 4, 'max_fea...         0.920252   \n",
      "1   {'criterion': 'gini', 'max_depth': 4, 'max_fea...         0.920751   \n",
      "2   {'criterion': 'gini', 'max_depth': 4, 'max_fea...         0.920252   \n",
      "3   {'criterion': 'gini', 'max_depth': 4, 'max_fea...         0.920751   \n",
      "4   {'criterion': 'gini', 'max_depth': 4, 'max_fea...         0.920252   \n",
      "5   {'criterion': 'gini', 'max_depth': 4, 'max_fea...         0.920751   \n",
      "6   {'criterion': 'gini', 'max_depth': 5, 'max_fea...         0.921666   \n",
      "7   {'criterion': 'gini', 'max_depth': 5, 'max_fea...         0.921666   \n",
      "8   {'criterion': 'gini', 'max_depth': 5, 'max_fea...         0.921666   \n",
      "9   {'criterion': 'gini', 'max_depth': 5, 'max_fea...         0.921666   \n",
      "10  {'criterion': 'gini', 'max_depth': 5, 'max_fea...         0.921666   \n",
      "11  {'criterion': 'gini', 'max_depth': 5, 'max_fea...         0.921666   \n",
      "12  {'criterion': 'gini', 'max_depth': 6, 'max_fea...         0.922106   \n",
      "13  {'criterion': 'gini', 'max_depth': 6, 'max_fea...         0.922106   \n",
      "14  {'criterion': 'gini', 'max_depth': 6, 'max_fea...         0.922106   \n",
      "15  {'criterion': 'gini', 'max_depth': 6, 'max_fea...         0.922106   \n",
      "16  {'criterion': 'gini', 'max_depth': 6, 'max_fea...         0.922106   \n",
      "17  {'criterion': 'gini', 'max_depth': 6, 'max_fea...         0.922106   \n",
      "18  {'criterion': 'gini', 'max_depth': 7, 'max_fea...         0.922671   \n",
      "19  {'criterion': 'gini', 'max_depth': 7, 'max_fea...         0.922679   \n",
      "20  {'criterion': 'gini', 'max_depth': 7, 'max_fea...         0.922671   \n",
      "21  {'criterion': 'gini', 'max_depth': 7, 'max_fea...         0.922679   \n",
      "22  {'criterion': 'gini', 'max_depth': 7, 'max_fea...         0.922671   \n",
      "23  {'criterion': 'gini', 'max_depth': 7, 'max_fea...         0.922679   \n",
      "24  {'criterion': 'gini', 'max_depth': 8, 'max_fea...         0.925155   \n",
      "25  {'criterion': 'gini', 'max_depth': 8, 'max_fea...         0.925696   \n",
      "26  {'criterion': 'gini', 'max_depth': 8, 'max_fea...         0.925155   \n",
      "27  {'criterion': 'gini', 'max_depth': 8, 'max_fea...         0.925696   \n",
      "28  {'criterion': 'gini', 'max_depth': 8, 'max_fea...         0.925155   \n",
      "29  {'criterion': 'gini', 'max_depth': 8, 'max_fea...         0.925696   \n",
      "30  {'criterion': 'entropy', 'max_depth': 4, 'max_...         0.916891   \n",
      "31  {'criterion': 'entropy', 'max_depth': 4, 'max_...         0.918797   \n",
      "32  {'criterion': 'entropy', 'max_depth': 4, 'max_...         0.916891   \n",
      "33  {'criterion': 'entropy', 'max_depth': 4, 'max_...         0.918797   \n",
      "34  {'criterion': 'entropy', 'max_depth': 4, 'max_...         0.916891   \n",
      "35  {'criterion': 'entropy', 'max_depth': 4, 'max_...         0.918797   \n",
      "36  {'criterion': 'entropy', 'max_depth': 5, 'max_...         0.921202   \n",
      "37  {'criterion': 'entropy', 'max_depth': 5, 'max_...         0.921630   \n",
      "38  {'criterion': 'entropy', 'max_depth': 5, 'max_...         0.921202   \n",
      "39  {'criterion': 'entropy', 'max_depth': 5, 'max_...         0.921630   \n",
      "40  {'criterion': 'entropy', 'max_depth': 5, 'max_...         0.921202   \n",
      "41  {'criterion': 'entropy', 'max_depth': 5, 'max_...         0.921630   \n",
      "42  {'criterion': 'entropy', 'max_depth': 6, 'max_...         0.922033   \n",
      "43  {'criterion': 'entropy', 'max_depth': 6, 'max_...         0.922069   \n",
      "44  {'criterion': 'entropy', 'max_depth': 6, 'max_...         0.922033   \n",
      "45  {'criterion': 'entropy', 'max_depth': 6, 'max_...         0.922069   \n",
      "46  {'criterion': 'entropy', 'max_depth': 6, 'max_...         0.922033   \n",
      "47  {'criterion': 'entropy', 'max_depth': 6, 'max_...         0.922069   \n",
      "48  {'criterion': 'entropy', 'max_depth': 7, 'max_...         0.921653   \n",
      "49  {'criterion': 'entropy', 'max_depth': 7, 'max_...         0.921653   \n",
      "50  {'criterion': 'entropy', 'max_depth': 7, 'max_...         0.921653   \n",
      "51  {'criterion': 'entropy', 'max_depth': 7, 'max_...         0.921653   \n",
      "52  {'criterion': 'entropy', 'max_depth': 7, 'max_...         0.921653   \n",
      "53  {'criterion': 'entropy', 'max_depth': 7, 'max_...         0.921653   \n",
      "54  {'criterion': 'entropy', 'max_depth': 8, 'max_...         0.922259   \n",
      "55  {'criterion': 'entropy', 'max_depth': 8, 'max_...         0.923173   \n",
      "56  {'criterion': 'entropy', 'max_depth': 8, 'max_...         0.922259   \n",
      "57  {'criterion': 'entropy', 'max_depth': 8, 'max_...         0.923173   \n",
      "58  {'criterion': 'entropy', 'max_depth': 8, 'max_...         0.922259   \n",
      "59  {'criterion': 'entropy', 'max_depth': 8, 'max_...         0.923173   \n",
      "\n",
      "    mean_train_score  \n",
      "0           0.921498  \n",
      "1           0.921375  \n",
      "2           0.921498  \n",
      "3           0.921375  \n",
      "4           0.921498  \n",
      "5           0.921375  \n",
      "6           0.924441  \n",
      "7           0.924686  \n",
      "8           0.924441  \n",
      "9           0.924686  \n",
      "10          0.924441  \n",
      "11          0.924686  \n",
      "12          0.926199  \n",
      "13          0.926696  \n",
      "14          0.926199  \n",
      "15          0.926696  \n",
      "16          0.926199  \n",
      "17          0.926696  \n",
      "18          0.933017  \n",
      "19          0.933093  \n",
      "20          0.933017  \n",
      "21          0.933093  \n",
      "22          0.933017  \n",
      "23          0.933093  \n",
      "24          0.938438  \n",
      "25          0.938187  \n",
      "26          0.938438  \n",
      "27          0.938187  \n",
      "28          0.938438  \n",
      "29          0.938187  \n",
      "30          0.919385  \n",
      "31          0.920674  \n",
      "32          0.919385  \n",
      "33          0.920674  \n",
      "34          0.919385  \n",
      "35          0.920674  \n",
      "36          0.923470  \n",
      "37          0.924090  \n",
      "38          0.923470  \n",
      "39          0.924090  \n",
      "40          0.923470  \n",
      "41          0.924090  \n",
      "42          0.926279  \n",
      "43          0.926279  \n",
      "44          0.926279  \n",
      "45          0.926279  \n",
      "46          0.926279  \n",
      "47          0.926279  \n",
      "48          0.929924  \n",
      "49          0.930048  \n",
      "50          0.929924  \n",
      "51          0.930048  \n",
      "52          0.929924  \n",
      "53          0.930048  \n",
      "54          0.933148  \n",
      "55          0.933646  \n",
      "56          0.933148  \n",
      "57          0.933646  \n",
      "58          0.933148  \n",
      "59          0.933646   \n",
      "\n",
      "{'criterion': 'gini', 'max_depth': 8, 'max_features': 'auto', 'n_estimators': 500}\n",
      "\n",
      "Precision on test set: 0.92875\n",
      "\n",
      "    Threshold  False Positives  False Negatives  Cost\n",
      "71   0.717172             30.0             26.0  36.5\n"
     ]
    },
    {
     "data": {
      "image/png": "[encoded data removed]",
      "text/plain": [
       "<Figure size 864x532.8 with 1 Axes>"
      ]
     },
     "metadata": {
      "needs_background": "light"
     },
     "output_type": "display_data"
    }
   ],
   "source": [
    "from sklearn.ensemble import RandomForestClassifier\n",
    "\n",
    "X_train, X_test, y_train, y_test = train_test_split(X, y, test_size=0.3, random_state=42, stratify=y)\n",
    "\n",
    "rfc = RandomForestClassifier(random_state=42)\n",
    "parameters = {'n_estimators': [200, 500],\n",
    "              'max_features': ['auto', 'sqrt', 'log2'],\n",
    "              'max_depth' : [4,5,6,7,8],\n",
    "              'criterion' : ['gini', 'entropy']}\n",
    "\n",
    "find_threshold_for_minimum_cost(model=find_best_params(model=rfc, parameters=parameters, folds=5))"
   ]
  },
  {
   "cell_type": "markdown",
   "metadata": {},
   "source": [
    "# Summary"
   ]
  },
  {
   "cell_type": "code",
   "execution_count": 31,
   "metadata": {},
   "outputs": [
    {
     "data": {
      "text/plain": [
       "<matplotlib.legend.Legend at 0x1c1b88eda0>"
      ]
     },
     "execution_count": 31,
     "metadata": {},
     "output_type": "execute_result"
    },
    {
     "data": {
      "image/png": "[encoded data removed]",
      "text/plain": [
       "<Figure size 864x532.8 with 1 Axes>"
      ]
     },
     "metadata": {
      "needs_background": "light"
     },
     "output_type": "display_data"
    }
   ],
   "source": [
    "# logit cost table\n",
    "logit_optimal = LogisticRegression(C=10, penalty='l1')\n",
    "\n",
    "X_train, X_test, y_train, y_test = train_test_split(X, y, test_size=0.3, random_state=42, stratify=y)\n",
    "\n",
    "logit_optimal.fit(X_train, y_train)\n",
    "probs = logit_optimal.predict_proba(X_test)[:,1]\n",
    "\n",
    "levels = []\n",
    "FP = []\n",
    "FN = []\n",
    "cost = []\n",
    "\n",
    "for threshold in np.linspace(0,1,100):\n",
    "    levels.append(threshold)\n",
    "    class_pred = [1 if p>=threshold else 0 for p in probs]\n",
    "    FP.append(false_positives(y_test,np.array(class_pred)))\n",
    "    FN.append(false_negatives(y_test,np.array(class_pred)))\n",
    "    \n",
    "Cost_df_logit = pd.DataFrame(data=[levels,FP,FN]).transpose()\n",
    "Cost_df_logit.rename(columns={0:'Threshold', 1:'False Positives', 2:'False Negatives'}, inplace=True)\n",
    "Cost_df_logit['Cost'] = Cost_df_logit['False Positives']*1 + Cost_df_logit['False Negatives']*0.25\n",
    "\n",
    "# SVC cost table\n",
    "svc_optimal = SVC(C=1000, gamma=100, probability=True, random_state=42)\n",
    "\n",
    "X_train_scaled, X_test_scaled, y_train, y_test = train_test_split(X_scaled, y, test_size=0.3, random_state=42, stratify=y)\n",
    "\n",
    "svc_optimal.fit(X_train_scaled, y_train)\n",
    "probs = svc_optimal.predict_proba(X_test_scaled)[:,1]\n",
    "\n",
    "levels = []\n",
    "FP = []\n",
    "FN = []\n",
    "cost = []\n",
    "\n",
    "for threshold in np.linspace(0,1,100):\n",
    "    levels.append(threshold)\n",
    "    class_pred = [1 if p>=threshold else 0 for p in probs]\n",
    "    FP.append(false_positives(y_test,np.array(class_pred)))\n",
    "    FN.append(false_negatives(y_test,np.array(class_pred)))\n",
    "    \n",
    "Cost_df_svc = pd.DataFrame(data=[levels,FP,FN]).transpose()\n",
    "Cost_df_svc.rename(columns={0:'Threshold', 1:'False Positives', 2:'False Negatives'}, inplace=True)\n",
    "Cost_df_svc['Cost'] = Cost_df_svc['False Positives']*1 + Cost_df_svc['False Negatives']*0.25\n",
    "\n",
    "# RFC cost table\n",
    "rfc_optimal = RandomForestClassifier(criterion='gini', max_depth=8, max_features='log2', \n",
    "                                     n_estimators=200, random_state=42)\n",
    "\n",
    "X_train, X_test, y_train, y_test = train_test_split(X, y, test_size=0.3, random_state=42, stratify=y)\n",
    "\n",
    "rfc_optimal.fit(X_train, y_train)\n",
    "probs = rfc_optimal.predict_proba(X_test)[:,1]\n",
    "\n",
    "levels = []\n",
    "FP = []\n",
    "FN = []\n",
    "cost = []\n",
    "\n",
    "for threshold in np.linspace(0,1,100):\n",
    "    levels.append(threshold)\n",
    "    class_pred = [1 if p>=threshold else 0 for p in probs]\n",
    "    FP.append(false_positives(y_test,np.array(class_pred)))\n",
    "    FN.append(false_negatives(y_test,np.array(class_pred)))\n",
    "    \n",
    "Cost_df_rfc = pd.DataFrame(data=[levels,FP,FN]).transpose()\n",
    "Cost_df_rfc.rename(columns={0:'Threshold', 1:'False Positives', 2:'False Negatives'}, inplace=True)\n",
    "Cost_df_rfc['Cost'] = Cost_df_rfc['False Positives']*1 + Cost_df_rfc['False Negatives']*0.25\n",
    "\n",
    "# Get coordinates for (threshold, minimum_cost) for each model:\n",
    "min_logit = Cost_df_logit['Cost'].min()\n",
    "threshold_logit = Cost_df_logit.loc[Cost_df_logit['Cost'] == min_logit]['Threshold'].values.item()\n",
    "logit_coords = '({:.2f}, {})'.format(threshold_logit, min_logit)\n",
    "min_svc = Cost_df_svc['Cost'].min()\n",
    "threshold_svc = Cost_df_svc.loc[Cost_df_svc['Cost'] == min_svc]['Threshold'].values.item()\n",
    "svc_coords = '({:.2f}, {})'.format(threshold_svc, min_svc)\n",
    "min_rfc = Cost_df_rfc['Cost'].min()\n",
    "threshold_rfc = Cost_df_rfc.loc[Cost_df_rfc['Cost'] == min_rfc]['Threshold'].values.item()\n",
    "rfc_coords = '({:.2f}, {})'.format(threshold_rfc, min_rfc)\n",
    "\n",
    "# Plot costs of mistargeted marketing for all three models:\n",
    "plt.figure(figsize=(12,7.4))\n",
    "\n",
    "plt.plot(levels, Cost_df_logit['Cost'], 'r', label='Logit')\n",
    "plt.axhline(y=min_logit, ls='--', c='black',lw=1.3)\n",
    "plt.annotate(logit_coords, xy=(1.05,min_logit), va='center', \n",
    "             xytext=(1.06,min_logit), fontsize='medium', \n",
    "             fontweight='semibold')\n",
    "\n",
    "plt.plot(levels, Cost_df_svc['Cost'], 'b', label='SVC')\n",
    "plt.axhline(y=min_svc, ls='--', c='black',lw=1.3)\n",
    "plt.annotate(svc_coords, xy=(1.05,min_svc), va='center', \n",
    "             xytext=(1.06,min_svc), fontsize='medium', \n",
    "             fontweight='semibold')\n",
    "\n",
    "plt.plot(levels, Cost_df_rfc['Cost'], 'g', label='RandomForest')\n",
    "plt.axhline(y=min_rfc, ls='--', c='black', lw=1.3)\n",
    "plt.annotate(rfc_coords, xy=(1.05,min_rfc), va='center', \n",
    "             xytext=(1.06,min_rfc), fontsize='medium', \n",
    "             fontweight='semibold')\n",
    "\n",
    "plt.xlabel('Classification Threshold')\n",
    "plt.ylabel('Cost')\n",
    "plt.title('Cost of Misclassification as a function of Classification Threshold')\n",
    "plt.legend()"
   ]
  },
  {
   "cell_type": "markdown",
   "metadata": {},
   "source": [
    "We can see that the random forest had the best performance among the three classifiers, achieving a minimum cost of 37.75 at a classification threshold of 0.73. The precision on the testing holdout set was 92%, beating both other classifiers by 1%. Refer to the classification report and confusion matrix below to see how well it performed."
   ]
  },
  {
   "cell_type": "code",
   "execution_count": 26,
   "metadata": {},
   "outputs": [
    {
     "name": "stdout",
     "output_type": "stream",
     "text": [
      "Confusion Matrix: \n",
      " [[ 62  30]\n",
      " [ 38 710]] \n",
      "\n",
      "Classification Report: \n",
      "               precision    recall  f1-score   support\n",
      "\n",
      "           0       0.62      0.67      0.65        92\n",
      "           1       0.96      0.95      0.95       748\n",
      "\n",
      "   micro avg       0.92      0.92      0.92       840\n",
      "   macro avg       0.79      0.81      0.80       840\n",
      "weighted avg       0.92      0.92      0.92       840\n",
      " \n",
      "\n"
     ]
    }
   ],
   "source": [
    "from sklearn.metrics import confusion_matrix, classification_report\n",
    "\n",
    "probs = rfc_optimal.predict_proba(X_test)[:,1]\n",
    "rfc_pred = [1 if p>=0.73 else 0 for p in probs]\n",
    "\n",
    "print('Confusion Matrix: \\n', confusion_matrix(y_test, rfc_pred),'\\n')\n",
    "print('Classification Report: \\n', classification_report(y_test, rfc_pred),'\\n')"
   ]
  }
 ],
 "metadata": {
  "kernelspec": {
   "display_name": "Python 3",
   "language": "python",
   "name": "python3"
  },
  "language_info": {
   "codemirror_mode": {
    "name": "ipython",
    "version": 3
   },
   "file_extension": ".py",
   "mimetype": "text/x-python",
   "name": "python",
   "nbconvert_exporter": "python",
   "pygments_lexer": "ipython3",
   "version": "3.7.3"
  }
 },
 "nbformat": 4,
 "nbformat_minor": 2
}
